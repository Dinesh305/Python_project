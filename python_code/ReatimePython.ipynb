{
 "cells": [
  {
   "cell_type": "markdown",
   "id": "b5277360",
   "metadata": {},
   "source": [
    "# Day1"
   ]
  },
  {
   "cell_type": "code",
   "execution_count": 2,
   "id": "2024763b",
   "metadata": {},
   "outputs": [
    {
     "name": "stdout",
     "output_type": "stream",
     "text": [
      "please enter the number : 5454\n",
      "it is positive num\n"
     ]
    }
   ],
   "source": [
    "#How to find Number is positive or Not \n",
    "num = int(input(\"please enter the number : \"))\n",
    "if num > 0:\n",
    "    print(\"it is positive num\")\n",
    "else:\n",
    "    print(\"it is negative num\")"
   ]
  },
  {
   "cell_type": "markdown",
   "id": "6d65f0fc",
   "metadata": {},
   "source": [
    "# Day2"
   ]
  },
  {
   "cell_type": "code",
   "execution_count": 9,
   "id": "94f489a8",
   "metadata": {},
   "outputs": [
    {
     "name": "stdout",
     "output_type": "stream",
     "text": [
      "please enter your number 44\n",
      "it is even number\n"
     ]
    }
   ],
   "source": [
    "#Finding Given Number is Even Or Odd\n",
    "num = int(input(\"please enter your number \"))\n",
    "if num%2 ==0:\n",
    "    print(\"it is even number\")\n",
    "else:\n",
    "    print(\"it is odd number\")"
   ]
  },
  {
   "cell_type": "markdown",
   "id": "15b7a4d7",
   "metadata": {},
   "source": [
    "# Day3"
   ]
  },
  {
   "cell_type": "code",
   "execution_count": 20,
   "id": "d5ab2628",
   "metadata": {},
   "outputs": [
    {
     "name": "stdout",
     "output_type": "stream",
     "text": [
      "It is an alphabet\n"
     ]
    }
   ],
   "source": [
    "#finding given character is alphabet or not\n",
    "ch= input(\"Please enter your char :\")\n",
    "if (ch>= 'a' and ch <='z'):\n",
    "    print(\"It is an alphabet\")\n",
    "else:\n",
    "    print(\"it is not alphabat\")    \n"
   ]
  },
  {
   "cell_type": "markdown",
   "id": "f9b185fc",
   "metadata": {},
   "source": [
    "# Day4"
   ]
  },
  {
   "cell_type": "code",
   "execution_count": 7,
   "id": "388396fa",
   "metadata": {},
   "outputs": [
    {
     "name": "stdout",
     "output_type": "stream",
     "text": [
      "enter the number55\n",
      "number is not prime\n"
     ]
    }
   ],
   "source": [
    "#Finding prime\n",
    "n=int(input(\"enter the number\"))\n",
    "count=0\n",
    "\n",
    "if n>1:\n",
    "    for i in range(1,n+1):\n",
    "        if((n%i)==0):\n",
    "            count+=1\n",
    "        \n",
    "if count==2:\n",
    "    print(\"number is prime\")\n",
    "else:\n",
    "    print(\"number is not prime\")"
   ]
  },
  {
   "cell_type": "markdown",
   "id": "c9216e4e",
   "metadata": {},
   "source": [
    "# Day5"
   ]
  },
  {
   "cell_type": "code",
   "execution_count": 10,
   "id": "b781624e",
   "metadata": {},
   "outputs": [
    {
     "name": "stdout",
     "output_type": "stream",
     "text": [
      "please enter your numer : 5\n",
      "please enter your num 25\n",
      "please enter your num 26\n",
      "please enter your num 27\n",
      "please enter your num 28\n",
      "please enter your num 29\n",
      "27.0\n"
     ]
    }
   ],
   "source": [
    "#Finding Average of N Numbers\n",
    "n = int(input(\"please enter your numer : \"))\n",
    "a= []\n",
    "\n",
    "for i in range(0,n) :\n",
    "    element= int(input(\"please enter your num \"))\n",
    "    a.append(element)\n",
    "totalAvg= sum(a)/n   \n",
    "print(totalAvg)"
   ]
  },
  {
   "cell_type": "markdown",
   "id": "51b934a0",
   "metadata": {},
   "source": [
    "# Day6"
   ]
  },
  {
   "cell_type": "code",
   "execution_count": 9,
   "id": "ef0a4a91",
   "metadata": {},
   "outputs": [
    {
     "name": "stdout",
     "output_type": "stream",
     "text": [
      "1 2\n",
      "2 3\n",
      "3 4\n",
      "4 5\n",
      "5 6\n",
      "6 7\n"
     ]
    }
   ],
   "source": [
    "#while loop \n",
    "a=1\n",
    "b=2\n",
    "while(a<5):\n",
    "    while(b<8):\n",
    "        print(a,b)\n",
    "        a=a+1\n",
    "        b=b+1   \n",
    "# print(\"a is greater than given value\")        "
   ]
  },
  {
   "cell_type": "markdown",
   "id": "69164a7f",
   "metadata": {},
   "source": [
    "# Day7"
   ]
  },
  {
   "cell_type": "code",
   "execution_count": 4,
   "id": "86bb17ab",
   "metadata": {},
   "outputs": [
    {
     "name": "stdout",
     "output_type": "stream",
     "text": [
      "it is divided  10\n",
      "it is divided  12\n",
      "it is divided  14\n",
      "it is divided  16\n",
      "it is divided  18\n",
      "it is divided  20\n",
      "it is divided  22\n",
      "it is divided  24\n"
     ]
    }
   ],
   "source": [
    "#print all numbers in a range that are divisible by given number\n",
    "start=10\n",
    "end=25\n",
    "for i in range(start,end):\n",
    "    if(i%2==0):\n",
    "        print(\"it is divided \" ,i)\n",
    "    "
   ]
  },
  {
   "cell_type": "code",
   "execution_count": 30,
   "id": "19fc1163",
   "metadata": {},
   "outputs": [
    {
     "name": "stdout",
     "output_type": "stream",
     "text": [
      "please enter your Tamil mark:54\n",
      "please enter your English mark:85\n",
      "please enter your Maths mark:45\n",
      "please enter your Science mark:96\n",
      "please enter your Social mark:58\n",
      "67.6\n",
      "he got grade D\n"
     ]
    }
   ],
   "source": [
    "##Total marks from UserInput\n",
    "mark1=int(input(\"please enter your Tamil mark:\"))\n",
    "mark2=int(input(\"please enter your English mark:\"))\n",
    "mark3=int(input(\"please enter your Maths mark:\"))\n",
    "mark4=int(input(\"please enter your Science mark:\"))\n",
    "mark5=int(input(\"please enter your Social mark:\"))\n",
    "Total = mark1+mark2+mark3+mark4+mark5\n",
    "Avg= Total/5\n",
    "print(Avg)\n",
    "\n",
    "if(Avg>=90):\n",
    "    print(\"he got grade A\")\n",
    "\n",
    "elif(Avg>=80 and Avg<90 ):\n",
    "    print(\"he got grade B\")\n",
    "\n",
    "elif(Avg>=70 and Avg<80):\n",
    "    print(\"he got grade C\")\n",
    "\n",
    "elif(Avg>=60 and Avg<70):\n",
    "    print(\"he got grade D\")    \n",
    "else:\n",
    "    print(\"failed\")"
   ]
  },
  {
   "cell_type": "code",
   "execution_count": 29,
   "id": "e9c11cd8",
   "metadata": {},
   "outputs": [
    {
     "name": "stdout",
     "output_type": "stream",
     "text": [
      "please enter your total subject :6\n",
      "please enter your mark :45\n",
      "please enter your mark :65\n",
      "please enter your mark :25\n",
      "please enter your mark :45\n",
      "please enter your mark :65\n",
      "please enter your mark :35\n",
      "46.666666666666664\n",
      "failed\n"
     ]
    }
   ],
   "source": [
    "Totalsub=int(input(\"please enter your total subject :\"))\n",
    "a=[]\n",
    "for i in range(0,Totalsub):\n",
    "    mark=int(input(\"please enter your mark :\"))\n",
    "    a.append(mark)\n",
    "avg=sum(a)/Totalsub\n",
    "print(avg)\n",
    "if(avg>=90):\n",
    "    print(\"he got grade A\")\n",
    "\n",
    "elif(avg>=80 and avg<90 ):\n",
    "    print(\"he got grade B\")\n",
    "\n",
    "elif(avg>=70 and avg<80):\n",
    "    print(\"he got grade C\")\n",
    "\n",
    "elif(avg>=60 and avg<70):\n",
    "    print(\"he got grade D\")    \n",
    "else:\n",
    "    print(\"failed\")"
   ]
  },
  {
   "cell_type": "code",
   "execution_count": null,
   "id": "a9646ecb",
   "metadata": {},
   "outputs": [],
   "source": []
  }
 ],
 "metadata": {
  "kernelspec": {
   "display_name": "Python 3 (ipykernel)",
   "language": "python",
   "name": "python3"
  },
  "language_info": {
   "codemirror_mode": {
    "name": "ipython",
    "version": 3
   },
   "file_extension": ".py",
   "mimetype": "text/x-python",
   "name": "python",
   "nbconvert_exporter": "python",
   "pygments_lexer": "ipython3",
   "version": "3.9.12"
  }
 },
 "nbformat": 4,
 "nbformat_minor": 5
}
