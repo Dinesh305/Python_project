{
 "cells": [
  {
   "cell_type": "markdown",
   "id": "b5277360",
   "metadata": {},
   "source": [
    "# Day1"
   ]
  },
  {
   "cell_type": "code",
   "execution_count": 2,
   "id": "2024763b",
   "metadata": {},
   "outputs": [
    {
     "name": "stdout",
     "output_type": "stream",
     "text": [
      "please enter the number : 5454\n",
      "it is positive num\n"
     ]
    }
   ],
   "source": [
    "num = int(input(\"please enter the number : \"))\n",
    "if num > 0:\n",
    "    print(\"it is positive num\")\n",
    "else:\n",
    "    print(\"it is negative num\")"
   ]
  },
  {
   "cell_type": "markdown",
   "id": "6d65f0fc",
   "metadata": {},
   "source": [
    "# Day2"
   ]
  },
  {
   "cell_type": "code",
   "execution_count": 9,
   "id": "94f489a8",
   "metadata": {},
   "outputs": [
    {
     "name": "stdout",
     "output_type": "stream",
     "text": [
      "please enter your number 44\n",
      "it is even number\n"
     ]
    }
   ],
   "source": [
    "num = int(input(\"please enter your number \"))\n",
    "if num%2 ==0:\n",
    "    print(\"it is even number\")\n",
    "else:\n",
    "    print(\"it is odd number\")"
   ]
  },
  {
   "cell_type": "markdown",
   "id": "15b7a4d7",
   "metadata": {},
   "source": [
    "# Day3"
   ]
  },
  {
   "cell_type": "code",
   "execution_count": 20,
   "id": "d5ab2628",
   "metadata": {},
   "outputs": [
    {
     "name": "stdout",
     "output_type": "stream",
     "text": [
      "It is an alphabet\n"
     ]
    }
   ],
   "source": [
    "ch= input(\"Please enter your char :\")\n",
    "if (ch>= 'a' and ch <='z'):\n",
    "    print(\"It is an alphabet\")\n",
    "else:\n",
    "    print(\"it is not alphabat\")    \n"
   ]
  },
  {
   "cell_type": "markdown",
   "id": "f9b185fc",
   "metadata": {},
   "source": [
    "# Day4"
   ]
  },
  {
   "cell_type": "code",
   "execution_count": 7,
   "id": "388396fa",
   "metadata": {},
   "outputs": [
    {
     "name": "stdout",
     "output_type": "stream",
     "text": [
      "enter the number55\n",
      "number is not prime\n"
     ]
    }
   ],
   "source": [
    "n=int(input(\"enter the number\"))\n",
    "count=0\n",
    "\n",
    "if n>1:\n",
    "    for i in range(1,n+1):\n",
    "        if((n%i)==0):\n",
    "            count+=1\n",
    "        \n",
    "if count==2:\n",
    "    print(\"number is prime\")\n",
    "else:\n",
    "    print(\"number is not prime\")"
   ]
  },
  {
   "cell_type": "markdown",
   "id": "c9216e4e",
   "metadata": {},
   "source": [
    "# Day5"
   ]
  },
  {
   "cell_type": "code",
   "execution_count": 22,
   "id": "b781624e",
   "metadata": {},
   "outputs": [
    {
     "name": "stdout",
     "output_type": "stream",
     "text": [
      "please enter your numer : 5\n",
      "please enter your num 4\n",
      "please enter your num 56\n",
      "please enter your num 1\n",
      "please enter your num 25\n",
      "please enter your num 25\n",
      "22.2\n"
     ]
    }
   ],
   "source": [
    "n = int(input(\"please enter your numer : \"))\n",
    "a= []\n",
    "\n",
    "for i in range(0,n) :\n",
    "    element= int(input(\"please enter your num \"))\n",
    "    a.append(element)\n",
    "totalAvg= sum(a)/n   \n",
    "print(totalAvg)"
   ]
  },
  {
   "cell_type": "code",
   "execution_count": null,
   "id": "d8c5fa7e",
   "metadata": {},
   "outputs": [],
   "source": []
  }
 ],
 "metadata": {
  "kernelspec": {
   "display_name": "Python 3 (ipykernel)",
   "language": "python",
   "name": "python3"
  },
  "language_info": {
   "codemirror_mode": {
    "name": "ipython",
    "version": 3
   },
   "file_extension": ".py",
   "mimetype": "text/x-python",
   "name": "python",
   "nbconvert_exporter": "python",
   "pygments_lexer": "ipython3",
   "version": "3.9.12"
  }
 },
 "nbformat": 4,
 "nbformat_minor": 5
}
