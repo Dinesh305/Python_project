{
 "cells": [
  {
   "cell_type": "markdown",
   "id": "b5277360",
   "metadata": {},
   "source": [
    "# Day1"
   ]
  },
  {
   "cell_type": "code",
   "execution_count": 2,
   "id": "2024763b",
   "metadata": {},
   "outputs": [
    {
     "name": "stdout",
     "output_type": "stream",
     "text": [
      "please enter the number : 5454\n",
      "it is positive num\n"
     ]
    }
   ],
   "source": [
    "num = int(input(\"please enter the number : \"))\n",
    "if num > 0:\n",
    "    print(\"it is positive num\")\n",
    "else:\n",
    "    print(\"it is negative num\")"
   ]
  },
  {
   "cell_type": "markdown",
   "id": "6d65f0fc",
   "metadata": {},
   "source": [
    "# Day2"
   ]
  },
  {
   "cell_type": "code",
   "execution_count": 9,
   "id": "94f489a8",
   "metadata": {},
   "outputs": [
    {
     "name": "stdout",
     "output_type": "stream",
     "text": [
      "please enter your number 44\n",
      "it is even number\n"
     ]
    }
   ],
   "source": [
    "num = int(input(\"please enter your number \"))\n",
    "if num%2 ==0:\n",
    "    print(\"it is even number\")\n",
    "else:\n",
    "    print(\"it is odd number\")"
   ]
  },
  {
   "cell_type": "code",
   "execution_count": null,
   "id": "15b7a4d7",
   "metadata": {},
   "outputs": [],
   "source": []
  }
 ],
 "metadata": {
  "kernelspec": {
   "display_name": "Python 3 (ipykernel)",
   "language": "python",
   "name": "python3"
  },
  "language_info": {
   "codemirror_mode": {
    "name": "ipython",
    "version": 3
   },
   "file_extension": ".py",
   "mimetype": "text/x-python",
   "name": "python",
   "nbconvert_exporter": "python",
   "pygments_lexer": "ipython3",
   "version": "3.9.12"
  }
 },
 "nbformat": 4,
 "nbformat_minor": 5
}
