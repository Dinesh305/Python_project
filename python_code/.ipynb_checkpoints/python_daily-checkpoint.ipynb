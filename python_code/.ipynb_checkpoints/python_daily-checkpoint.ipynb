{
 "cells": [
  {
   "cell_type": "code",
   "execution_count": 17,
   "metadata": {},
   "outputs": [
    {
     "name": "stdout",
     "output_type": "stream",
     "text": [
      "hellow world\n",
      "hellow world it is day 1\n"
     ]
    }
   ],
   "source": [
    "#day 1 \n",
    "#continuation characters\n",
    "\n",
    "print(\"hellow world\")\n",
    "\n",
    "print(\"hellow world \\\n",
    "it is day 1\")"
   ]
  },
  {
   "cell_type": "code",
   "execution_count": 32,
   "metadata": {},
   "outputs": [
    {
     "name": "stdout",
     "output_type": "stream",
     "text": [
      "{'l': 1}\n",
      "None\n"
     ]
    }
   ],
   "source": [
    "##Day 2 \n",
    "##continuation characters\n",
    "\n",
    "def count_char(s):\n",
    "    count={}\n",
    "    for i in s:\n",
    "        if i =='a':\n",
    "            count[i]+=1\n",
    "        else:\n",
    "         count[i]=1\n",
    "            \n",
    "    print(count)\n",
    "            \n",
    "word = input(\"please enter your num\")  \n",
    "print(count_char(word))          "
   ]
  },
  {
   "cell_type": "code",
   "execution_count": 18,
   "metadata": {},
   "outputs": [
    {
     "name": "stdout",
     "output_type": "stream",
     "text": [
      "d    4\n",
      "dtype: int64\n"
     ]
    }
   ],
   "source": [
    "import pandas as pd\n",
    "phrase = input(\"please enter your word\")\n",
    "print(pd.Series(list(phrase)).value_counts())"
   ]
  },
  {
   "cell_type": "code",
   "execution_count": 26,
   "metadata": {},
   "outputs": [
    {
     "name": "stdout",
     "output_type": "stream",
     "text": [
      "0\n"
     ]
    }
   ],
   "source": [
    "sentence = input(\"please enter your letter\") \n",
    "count = 0\n",
    "for i in sentence:\n",
    "    if i == sentence:\n",
    "        count = count + 1\n",
    "print(count)"
   ]
  },
  {
   "cell_type": "code",
   "execution_count": null,
   "metadata": {},
   "outputs": [],
   "source": []
  }
 ],
 "metadata": {
  "kernelspec": {
   "display_name": "Python 3 (ipykernel)",
   "language": "python",
   "name": "python3"
  },
  "language_info": {
   "codemirror_mode": {
    "name": "ipython",
    "version": 3
   },
   "file_extension": ".py",
   "mimetype": "text/x-python",
   "name": "python",
   "nbconvert_exporter": "python",
   "pygments_lexer": "ipython3",
   "version": "3.9.12"
  },
  "vscode": {
   "interpreter": {
    "hash": "d520ab231c01d0547f20eca0610860640c0d39f5bdbf961acd291b6770781336"
   }
  }
 },
 "nbformat": 4,
 "nbformat_minor": 2
}
