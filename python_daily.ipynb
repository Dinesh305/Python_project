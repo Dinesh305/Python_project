{
 "cells": [
  {
   "cell_type": "code",
   "execution_count": null,
   "metadata": {},
   "outputs": [],
   "source": [
    "#day 1 \n",
    "#continuation characters\n",
    "\n",
    "print(\"hellow world\")\n",
    "\n",
    "print(\"hellow world \\\n",
    "it is day 1\")"
   ]
  },
  {
   "cell_type": "code",
   "execution_count": 11,
   "metadata": {},
   "outputs": [],
   "source": [
    "##Day 2 \n",
    "##continuation characters\n",
    "\n",
    "def count_char(s):\n",
    "    count={}\n",
    "    for i in s:\n",
    "        if i in count:\n",
    "            count[i]=i+1\n",
    "        else:\n",
    "            count[i]=1    \n",
    "            \n",
    "            print(count)\n",
    "            \n",
    "word = input(\"please enter your num\")  \n",
    "print(count_char(word))          "
   ]
  },
  {
   "cell_type": "code",
   "execution_count": null,
   "metadata": {},
   "outputs": [],
   "source": []
  }
 ],
 "metadata": {
  "kernelspec": {
   "display_name": "Python 3.10.5 64-bit",
   "language": "python",
   "name": "python3"
  },
  "language_info": {
   "codemirror_mode": {
    "name": "ipython",
    "version": 3
   },
   "file_extension": ".py",
   "mimetype": "text/x-python",
   "name": "python",
   "nbconvert_exporter": "python",
   "pygments_lexer": "ipython3",
   "version": "3.10.5"
  },
  "orig_nbformat": 4,
  "vscode": {
   "interpreter": {
    "hash": "62cc7ac5e62dd3d47066169943f5e5c26dc934ca52fd6437b5dbd0b0a403a75b"
   }
  }
 },
 "nbformat": 4,
 "nbformat_minor": 2
}
